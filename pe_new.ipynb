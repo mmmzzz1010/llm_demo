{
 "cells": [
  {
   "cell_type": "code",
   "execution_count": null,
   "id": "8bff2891-a7c1-419c-a538-3750c17b9e28",
   "metadata": {},
   "outputs": [],
   "source": [
    "'''\n",
    "使用终端启动\n",
    "# Miniconda 安装成功后，用conda创建一个python3.11的环境：\n",
    "conda create --name agi_env python=3.11\n",
    "# 激活环境\n",
    "conda activate agi_env\n",
    "\n",
    "conda install -c conda-forge jupyterlab\n",
    "# 启动jupyterlab：\n",
    "jupyter-lab .\n",
    "'''"
   ]
  },
  {
   "cell_type": "code",
   "execution_count": null,
   "id": "29ec6b14-9bd1-4288-a401-e6c15ca9a513",
   "metadata": {},
   "outputs": [],
   "source": [
    "!pip install openai"
   ]
  },
  {
   "cell_type": "code",
   "execution_count": 1,
   "id": "763d91c9-b4c0-4066-98e5-34ed28f63446",
   "metadata": {},
   "outputs": [
    {
     "name": "stdout",
     "output_type": "stream",
     "text": [
      "《春晓》\n",
      "春眠不觉晓，处处闻啼鸟。\n",
      "夜来风雨声，花落知多少。\n",
      "\n",
      "赏析：这首作品以春天的早晨为背景，通过细腻的描绘展现了春天的生机与变化。诗中“春眠不觉晓”表达了春日的慵懒与宁静，“处处闻啼鸟”则进一步以鸟鸣声点缀出春日的活力。后两句“夜来风雨声，花落知多少”则巧妙转折，透露出对春光易逝的淡淡哀愁，使全诗情感更加丰富深沉。\n"
     ]
    }
   ],
   "source": [
    "from openai import OpenAI\n",
    "\n",
    "client = OpenAI(api_key=\"#########\", base_url=\"https://api.deepseek.com\")\n",
    "\n",
    "def chat(prompt):\n",
    "    response = client.chat.completions.create(\n",
    "            model=\"deepseek-chat\",\n",
    "            messages=[\n",
    "                {\n",
    "                    \"role\": \"user\",\n",
    "                    \"content\": prompt,\n",
    "                }\n",
    "            ],\n",
    "            max_tokens=500\n",
    "    )\n",
    "    print(response.choices[0].message.content)\n",
    "chat(\"一首以春为主题的五言绝句唐诗\")"
   ]
  },
  {
   "cell_type": "code",
   "execution_count": 3,
   "id": "72dd4310-3c21-4e18-8b4b-991b9aadc7b8",
   "metadata": {},
   "outputs": [
    {
     "name": "stdout",
     "output_type": "stream",
     "text": [
      "《春晓》是唐代诗人孟浩然的作品，全诗如下：\n",
      "\n",
      "春眠不觉晓，处处闻啼鸟。\n",
      "夜来风雨声，花落知多少。\n",
      "\n",
      "这首诗以春天的早晨为背景，通过细腻的描绘展现了春天的生机与变化。首句“春眠不觉晓”表达了春日的慵懒与宁静，诗人沉浸在春眠中，不知不觉天已破晓。次句“处处闻啼鸟”则进一步以鸟鸣声点缀出春日的活力，鸟儿的欢唱唤醒了沉睡的大地，也唤醒了诗人的心灵。\n",
      "\n",
      "后两句“夜来风雨声，花落知多少”则巧妙转折，透露出对春光易逝的淡淡哀愁。诗人回忆起昨夜的风雨声，不禁想到那些被风雨打落的花朵，心中涌起一丝惋惜和感慨。这种情感的变化使全诗更加丰富深沉，既展现了春天的美好，又暗含了对生命无常的哲思。\n",
      "\n",
      "总的来说，《春晓》以简洁的语言和生动的意象，成功地捕捉了春天的气息和情感的变化，成为千古传诵的佳作。\n"
     ]
    }
   ],
   "source": [
    "chat(\"获取诗词摘要，这首作品以春天的早晨为背景，通过细腻的描绘展现了春天的生机与变化。诗中“春眠不觉晓”表达了春日的慵懒与宁静，“处处闻啼鸟”则进一步以鸟鸣声点缀出春日的活力。后两句“夜来风雨声，花落知多少”则巧妙转折，透露出对春光易逝的淡淡哀愁，使全诗情感更加丰富深沉。\")"
   ]
  },
  {
   "cell_type": "code",
   "execution_count": null,
   "id": "eec2b7f9-fde1-49ea-92e9-a231549c08c7",
   "metadata": {},
   "outputs": [],
   "source": []
  }
 ],
 "metadata": {
  "kernelspec": {
   "display_name": "Python 3 (ipykernel)",
   "language": "python",
   "name": "python3"
  },
  "language_info": {
   "codemirror_mode": {
    "name": "ipython",
    "version": 3
   },
   "file_extension": ".py",
   "mimetype": "text/x-python",
   "name": "python",
   "nbconvert_exporter": "python",
   "pygments_lexer": "ipython3",
   "version": "3.11.11"
  }
 },
 "nbformat": 4,
 "nbformat_minor": 5
}
